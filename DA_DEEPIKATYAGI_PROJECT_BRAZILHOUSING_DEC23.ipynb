{
 "cells": [
  {
   "cell_type": "markdown",
   "id": "6a468922",
   "metadata": {},
   "source": [
    "# BRAZIL HOUSING DATA-CASE STUDY"
   ]
  },
  {
   "cell_type": "markdown",
   "id": "ae3efdde",
   "metadata": {},
   "source": [
    "# Business Objectives-To analyse the given Housing data and find the suitable cities for Bachelors,Mid-sized family,large sized family according to their needs."
   ]
  },
  {
   "cell_type": "markdown",
   "id": "0d074e7a",
   "metadata": {},
   "source": [
    "# Importing the necessary libraries"
   ]
  },
  {
   "cell_type": "code",
   "execution_count": 1,
   "id": "11b2fcc5",
   "metadata": {},
   "outputs": [],
   "source": [
    "import matplotlib.pyplot as plt             \n",
    "from tabulate import tabulate               \n",
    "import matplotlib as mat                     \n",
    "import seaborn as sns                       \n",
    "import pandas as pd                         \n",
    "import numpy as np                          "
   ]
  },
  {
   "cell_type": "code",
   "execution_count": 2,
   "id": "6035fba3",
   "metadata": {},
   "outputs": [
    {
     "name": "stdout",
     "output_type": "stream",
     "text": [
      "Pandas version:  2.0.3\n",
      "Seaborn version:  0.12.2\n",
      "Matplotlib version:  3.7.2\n"
     ]
    }
   ],
   "source": [
    "# Checking the library versions \n",
    "print(\"Pandas version: \",pd.__version__)\n",
    "print(\"Seaborn version: \",sns.__version__)\n",
    "print(\"Matplotlib version: \",mat.__version__)"
   ]
  },
  {
   "cell_type": "markdown",
   "id": "2c30f70b",
   "metadata": {},
   "source": [
    "# Reading the file"
   ]
  },
  {
   "cell_type": "code",
   "execution_count": 3,
   "id": "f85e4497",
   "metadata": {},
   "outputs": [
    {
     "data": {
      "text/html": [
       "<div>\n",
       "<style scoped>\n",
       "    .dataframe tbody tr th:only-of-type {\n",
       "        vertical-align: middle;\n",
       "    }\n",
       "\n",
       "    .dataframe tbody tr th {\n",
       "        vertical-align: top;\n",
       "    }\n",
       "\n",
       "    .dataframe thead th {\n",
       "        text-align: right;\n",
       "    }\n",
       "</style>\n",
       "<table border=\"1\" class=\"dataframe\">\n",
       "  <thead>\n",
       "    <tr style=\"text-align: right;\">\n",
       "      <th></th>\n",
       "      <th>city</th>\n",
       "      <th>area</th>\n",
       "      <th>rooms</th>\n",
       "      <th>bathroom</th>\n",
       "      <th>parking spaces</th>\n",
       "      <th>floor</th>\n",
       "      <th>animal</th>\n",
       "      <th>furniture</th>\n",
       "      <th>hoa (R$)</th>\n",
       "      <th>rent amount (R$)</th>\n",
       "      <th>property tax (R$)</th>\n",
       "      <th>fire insurance (R$)</th>\n",
       "      <th>total (R$)</th>\n",
       "    </tr>\n",
       "  </thead>\n",
       "  <tbody>\n",
       "    <tr>\n",
       "      <th>0</th>\n",
       "      <td>São Paulo</td>\n",
       "      <td>70</td>\n",
       "      <td>2</td>\n",
       "      <td>1</td>\n",
       "      <td>1</td>\n",
       "      <td>7</td>\n",
       "      <td>acept</td>\n",
       "      <td>furnished</td>\n",
       "      <td>2065</td>\n",
       "      <td>3300</td>\n",
       "      <td>211</td>\n",
       "      <td>42</td>\n",
       "      <td>5618</td>\n",
       "    </tr>\n",
       "    <tr>\n",
       "      <th>1</th>\n",
       "      <td>São Paulo</td>\n",
       "      <td>320</td>\n",
       "      <td>4</td>\n",
       "      <td>4</td>\n",
       "      <td>0</td>\n",
       "      <td>20</td>\n",
       "      <td>acept</td>\n",
       "      <td>not furnished</td>\n",
       "      <td>1200</td>\n",
       "      <td>4960</td>\n",
       "      <td>1750</td>\n",
       "      <td>63</td>\n",
       "      <td>7973</td>\n",
       "    </tr>\n",
       "    <tr>\n",
       "      <th>2</th>\n",
       "      <td>Porto Alegre</td>\n",
       "      <td>80</td>\n",
       "      <td>1</td>\n",
       "      <td>1</td>\n",
       "      <td>1</td>\n",
       "      <td>6</td>\n",
       "      <td>acept</td>\n",
       "      <td>not furnished</td>\n",
       "      <td>1000</td>\n",
       "      <td>2800</td>\n",
       "      <td>0</td>\n",
       "      <td>41</td>\n",
       "      <td>3841</td>\n",
       "    </tr>\n",
       "    <tr>\n",
       "      <th>3</th>\n",
       "      <td>Porto Alegre</td>\n",
       "      <td>51</td>\n",
       "      <td>2</td>\n",
       "      <td>1</td>\n",
       "      <td>0</td>\n",
       "      <td>2</td>\n",
       "      <td>acept</td>\n",
       "      <td>not furnished</td>\n",
       "      <td>270</td>\n",
       "      <td>1112</td>\n",
       "      <td>22</td>\n",
       "      <td>17</td>\n",
       "      <td>1421</td>\n",
       "    </tr>\n",
       "    <tr>\n",
       "      <th>4</th>\n",
       "      <td>São Paulo</td>\n",
       "      <td>25</td>\n",
       "      <td>1</td>\n",
       "      <td>1</td>\n",
       "      <td>0</td>\n",
       "      <td>1</td>\n",
       "      <td>not acept</td>\n",
       "      <td>not furnished</td>\n",
       "      <td>0</td>\n",
       "      <td>800</td>\n",
       "      <td>25</td>\n",
       "      <td>11</td>\n",
       "      <td>836</td>\n",
       "    </tr>\n",
       "    <tr>\n",
       "      <th>...</th>\n",
       "      <td>...</td>\n",
       "      <td>...</td>\n",
       "      <td>...</td>\n",
       "      <td>...</td>\n",
       "      <td>...</td>\n",
       "      <td>...</td>\n",
       "      <td>...</td>\n",
       "      <td>...</td>\n",
       "      <td>...</td>\n",
       "      <td>...</td>\n",
       "      <td>...</td>\n",
       "      <td>...</td>\n",
       "      <td>...</td>\n",
       "    </tr>\n",
       "    <tr>\n",
       "      <th>10687</th>\n",
       "      <td>Porto Alegre</td>\n",
       "      <td>63</td>\n",
       "      <td>2</td>\n",
       "      <td>1</td>\n",
       "      <td>1</td>\n",
       "      <td>5</td>\n",
       "      <td>not acept</td>\n",
       "      <td>furnished</td>\n",
       "      <td>402</td>\n",
       "      <td>1478</td>\n",
       "      <td>24</td>\n",
       "      <td>22</td>\n",
       "      <td>1926</td>\n",
       "    </tr>\n",
       "    <tr>\n",
       "      <th>10688</th>\n",
       "      <td>São Paulo</td>\n",
       "      <td>285</td>\n",
       "      <td>4</td>\n",
       "      <td>4</td>\n",
       "      <td>4</td>\n",
       "      <td>17</td>\n",
       "      <td>acept</td>\n",
       "      <td>not furnished</td>\n",
       "      <td>3100</td>\n",
       "      <td>15000</td>\n",
       "      <td>973</td>\n",
       "      <td>191</td>\n",
       "      <td>19260</td>\n",
       "    </tr>\n",
       "    <tr>\n",
       "      <th>10689</th>\n",
       "      <td>Rio de Janeiro</td>\n",
       "      <td>70</td>\n",
       "      <td>3</td>\n",
       "      <td>3</td>\n",
       "      <td>0</td>\n",
       "      <td>8</td>\n",
       "      <td>not acept</td>\n",
       "      <td>furnished</td>\n",
       "      <td>980</td>\n",
       "      <td>6000</td>\n",
       "      <td>332</td>\n",
       "      <td>78</td>\n",
       "      <td>7390</td>\n",
       "    </tr>\n",
       "    <tr>\n",
       "      <th>10690</th>\n",
       "      <td>Rio de Janeiro</td>\n",
       "      <td>120</td>\n",
       "      <td>2</td>\n",
       "      <td>2</td>\n",
       "      <td>2</td>\n",
       "      <td>8</td>\n",
       "      <td>acept</td>\n",
       "      <td>furnished</td>\n",
       "      <td>1585</td>\n",
       "      <td>12000</td>\n",
       "      <td>279</td>\n",
       "      <td>155</td>\n",
       "      <td>14020</td>\n",
       "    </tr>\n",
       "    <tr>\n",
       "      <th>10691</th>\n",
       "      <td>São Paulo</td>\n",
       "      <td>80</td>\n",
       "      <td>2</td>\n",
       "      <td>1</td>\n",
       "      <td>0</td>\n",
       "      <td>0</td>\n",
       "      <td>acept</td>\n",
       "      <td>not furnished</td>\n",
       "      <td>0</td>\n",
       "      <td>1400</td>\n",
       "      <td>165</td>\n",
       "      <td>22</td>\n",
       "      <td>1587</td>\n",
       "    </tr>\n",
       "  </tbody>\n",
       "</table>\n",
       "<p>10692 rows × 13 columns</p>\n",
       "</div>"
      ],
      "text/plain": [
       "                 city  area  rooms  bathroom  parking spaces  floor  \\\n",
       "0           São Paulo    70      2         1               1      7   \n",
       "1           São Paulo   320      4         4               0     20   \n",
       "2        Porto Alegre    80      1         1               1      6   \n",
       "3        Porto Alegre    51      2         1               0      2   \n",
       "4           São Paulo    25      1         1               0      1   \n",
       "...               ...   ...    ...       ...             ...    ...   \n",
       "10687    Porto Alegre    63      2         1               1      5   \n",
       "10688       São Paulo   285      4         4               4     17   \n",
       "10689  Rio de Janeiro    70      3         3               0      8   \n",
       "10690  Rio de Janeiro   120      2         2               2      8   \n",
       "10691       São Paulo    80      2         1               0      0   \n",
       "\n",
       "          animal      furniture  hoa (R$)  rent amount (R$)  \\\n",
       "0          acept      furnished      2065              3300   \n",
       "1          acept  not furnished      1200              4960   \n",
       "2          acept  not furnished      1000              2800   \n",
       "3          acept  not furnished       270              1112   \n",
       "4      not acept  not furnished         0               800   \n",
       "...          ...            ...       ...               ...   \n",
       "10687  not acept      furnished       402              1478   \n",
       "10688      acept  not furnished      3100             15000   \n",
       "10689  not acept      furnished       980              6000   \n",
       "10690      acept      furnished      1585             12000   \n",
       "10691      acept  not furnished         0              1400   \n",
       "\n",
       "       property tax (R$)  fire insurance (R$)  total (R$)  \n",
       "0                    211                   42        5618  \n",
       "1                   1750                   63        7973  \n",
       "2                      0                   41        3841  \n",
       "3                     22                   17        1421  \n",
       "4                     25                   11         836  \n",
       "...                  ...                  ...         ...  \n",
       "10687                 24                   22        1926  \n",
       "10688                973                  191       19260  \n",
       "10689                332                   78        7390  \n",
       "10690                279                  155       14020  \n",
       "10691                165                   22        1587  \n",
       "\n",
       "[10692 rows x 13 columns]"
      ]
     },
     "execution_count": 3,
     "metadata": {},
     "output_type": "execute_result"
    }
   ],
   "source": [
    "df = pd.read_csv('DS1_C5_S3_BazilHousing_Data_Hackathon.csv')\n",
    "df"
   ]
  },
  {
   "cell_type": "markdown",
   "id": "d35b8f49",
   "metadata": {},
   "source": [
    "# Level 0 Analysis: Understanding Data"
   ]
  },
  {
   "cell_type": "markdown",
   "id": "41efcac9",
   "metadata": {},
   "source": [
    "# Reading the top 5 rows"
   ]
  },
  {
   "cell_type": "code",
   "execution_count": 4,
   "id": "fccecc92",
   "metadata": {},
   "outputs": [
    {
     "data": {
      "text/html": [
       "<div>\n",
       "<style scoped>\n",
       "    .dataframe tbody tr th:only-of-type {\n",
       "        vertical-align: middle;\n",
       "    }\n",
       "\n",
       "    .dataframe tbody tr th {\n",
       "        vertical-align: top;\n",
       "    }\n",
       "\n",
       "    .dataframe thead th {\n",
       "        text-align: right;\n",
       "    }\n",
       "</style>\n",
       "<table border=\"1\" class=\"dataframe\">\n",
       "  <thead>\n",
       "    <tr style=\"text-align: right;\">\n",
       "      <th></th>\n",
       "      <th>city</th>\n",
       "      <th>area</th>\n",
       "      <th>rooms</th>\n",
       "      <th>bathroom</th>\n",
       "      <th>parking spaces</th>\n",
       "      <th>floor</th>\n",
       "      <th>animal</th>\n",
       "      <th>furniture</th>\n",
       "      <th>hoa (R$)</th>\n",
       "      <th>rent amount (R$)</th>\n",
       "      <th>property tax (R$)</th>\n",
       "      <th>fire insurance (R$)</th>\n",
       "      <th>total (R$)</th>\n",
       "    </tr>\n",
       "  </thead>\n",
       "  <tbody>\n",
       "    <tr>\n",
       "      <th>0</th>\n",
       "      <td>São Paulo</td>\n",
       "      <td>70</td>\n",
       "      <td>2</td>\n",
       "      <td>1</td>\n",
       "      <td>1</td>\n",
       "      <td>7</td>\n",
       "      <td>acept</td>\n",
       "      <td>furnished</td>\n",
       "      <td>2065</td>\n",
       "      <td>3300</td>\n",
       "      <td>211</td>\n",
       "      <td>42</td>\n",
       "      <td>5618</td>\n",
       "    </tr>\n",
       "    <tr>\n",
       "      <th>1</th>\n",
       "      <td>São Paulo</td>\n",
       "      <td>320</td>\n",
       "      <td>4</td>\n",
       "      <td>4</td>\n",
       "      <td>0</td>\n",
       "      <td>20</td>\n",
       "      <td>acept</td>\n",
       "      <td>not furnished</td>\n",
       "      <td>1200</td>\n",
       "      <td>4960</td>\n",
       "      <td>1750</td>\n",
       "      <td>63</td>\n",
       "      <td>7973</td>\n",
       "    </tr>\n",
       "    <tr>\n",
       "      <th>2</th>\n",
       "      <td>Porto Alegre</td>\n",
       "      <td>80</td>\n",
       "      <td>1</td>\n",
       "      <td>1</td>\n",
       "      <td>1</td>\n",
       "      <td>6</td>\n",
       "      <td>acept</td>\n",
       "      <td>not furnished</td>\n",
       "      <td>1000</td>\n",
       "      <td>2800</td>\n",
       "      <td>0</td>\n",
       "      <td>41</td>\n",
       "      <td>3841</td>\n",
       "    </tr>\n",
       "    <tr>\n",
       "      <th>3</th>\n",
       "      <td>Porto Alegre</td>\n",
       "      <td>51</td>\n",
       "      <td>2</td>\n",
       "      <td>1</td>\n",
       "      <td>0</td>\n",
       "      <td>2</td>\n",
       "      <td>acept</td>\n",
       "      <td>not furnished</td>\n",
       "      <td>270</td>\n",
       "      <td>1112</td>\n",
       "      <td>22</td>\n",
       "      <td>17</td>\n",
       "      <td>1421</td>\n",
       "    </tr>\n",
       "    <tr>\n",
       "      <th>4</th>\n",
       "      <td>São Paulo</td>\n",
       "      <td>25</td>\n",
       "      <td>1</td>\n",
       "      <td>1</td>\n",
       "      <td>0</td>\n",
       "      <td>1</td>\n",
       "      <td>not acept</td>\n",
       "      <td>not furnished</td>\n",
       "      <td>0</td>\n",
       "      <td>800</td>\n",
       "      <td>25</td>\n",
       "      <td>11</td>\n",
       "      <td>836</td>\n",
       "    </tr>\n",
       "  </tbody>\n",
       "</table>\n",
       "</div>"
      ],
      "text/plain": [
       "           city  area  rooms  bathroom  parking spaces  floor     animal  \\\n",
       "0     São Paulo    70      2         1               1      7      acept   \n",
       "1     São Paulo   320      4         4               0     20      acept   \n",
       "2  Porto Alegre    80      1         1               1      6      acept   \n",
       "3  Porto Alegre    51      2         1               0      2      acept   \n",
       "4     São Paulo    25      1         1               0      1  not acept   \n",
       "\n",
       "       furniture  hoa (R$)  rent amount (R$)  property tax (R$)  \\\n",
       "0      furnished      2065              3300                211   \n",
       "1  not furnished      1200              4960               1750   \n",
       "2  not furnished      1000              2800                  0   \n",
       "3  not furnished       270              1112                 22   \n",
       "4  not furnished         0               800                 25   \n",
       "\n",
       "   fire insurance (R$)  total (R$)  \n",
       "0                   42        5618  \n",
       "1                   63        7973  \n",
       "2                   41        3841  \n",
       "3                   17        1421  \n",
       "4                   11         836  "
      ]
     },
     "execution_count": 4,
     "metadata": {},
     "output_type": "execute_result"
    }
   ],
   "source": [
    "df.head()"
   ]
  },
  {
   "cell_type": "markdown",
   "id": "e47628ca",
   "metadata": {},
   "source": [
    "# Reading the bottom 5 rows"
   ]
  },
  {
   "cell_type": "code",
   "execution_count": 5,
   "id": "0f1bc770",
   "metadata": {},
   "outputs": [
    {
     "data": {
      "text/html": [
       "<div>\n",
       "<style scoped>\n",
       "    .dataframe tbody tr th:only-of-type {\n",
       "        vertical-align: middle;\n",
       "    }\n",
       "\n",
       "    .dataframe tbody tr th {\n",
       "        vertical-align: top;\n",
       "    }\n",
       "\n",
       "    .dataframe thead th {\n",
       "        text-align: right;\n",
       "    }\n",
       "</style>\n",
       "<table border=\"1\" class=\"dataframe\">\n",
       "  <thead>\n",
       "    <tr style=\"text-align: right;\">\n",
       "      <th></th>\n",
       "      <th>city</th>\n",
       "      <th>area</th>\n",
       "      <th>rooms</th>\n",
       "      <th>bathroom</th>\n",
       "      <th>parking spaces</th>\n",
       "      <th>floor</th>\n",
       "      <th>animal</th>\n",
       "      <th>furniture</th>\n",
       "      <th>hoa (R$)</th>\n",
       "      <th>rent amount (R$)</th>\n",
       "      <th>property tax (R$)</th>\n",
       "      <th>fire insurance (R$)</th>\n",
       "      <th>total (R$)</th>\n",
       "    </tr>\n",
       "  </thead>\n",
       "  <tbody>\n",
       "    <tr>\n",
       "      <th>10687</th>\n",
       "      <td>Porto Alegre</td>\n",
       "      <td>63</td>\n",
       "      <td>2</td>\n",
       "      <td>1</td>\n",
       "      <td>1</td>\n",
       "      <td>5</td>\n",
       "      <td>not acept</td>\n",
       "      <td>furnished</td>\n",
       "      <td>402</td>\n",
       "      <td>1478</td>\n",
       "      <td>24</td>\n",
       "      <td>22</td>\n",
       "      <td>1926</td>\n",
       "    </tr>\n",
       "    <tr>\n",
       "      <th>10688</th>\n",
       "      <td>São Paulo</td>\n",
       "      <td>285</td>\n",
       "      <td>4</td>\n",
       "      <td>4</td>\n",
       "      <td>4</td>\n",
       "      <td>17</td>\n",
       "      <td>acept</td>\n",
       "      <td>not furnished</td>\n",
       "      <td>3100</td>\n",
       "      <td>15000</td>\n",
       "      <td>973</td>\n",
       "      <td>191</td>\n",
       "      <td>19260</td>\n",
       "    </tr>\n",
       "    <tr>\n",
       "      <th>10689</th>\n",
       "      <td>Rio de Janeiro</td>\n",
       "      <td>70</td>\n",
       "      <td>3</td>\n",
       "      <td>3</td>\n",
       "      <td>0</td>\n",
       "      <td>8</td>\n",
       "      <td>not acept</td>\n",
       "      <td>furnished</td>\n",
       "      <td>980</td>\n",
       "      <td>6000</td>\n",
       "      <td>332</td>\n",
       "      <td>78</td>\n",
       "      <td>7390</td>\n",
       "    </tr>\n",
       "    <tr>\n",
       "      <th>10690</th>\n",
       "      <td>Rio de Janeiro</td>\n",
       "      <td>120</td>\n",
       "      <td>2</td>\n",
       "      <td>2</td>\n",
       "      <td>2</td>\n",
       "      <td>8</td>\n",
       "      <td>acept</td>\n",
       "      <td>furnished</td>\n",
       "      <td>1585</td>\n",
       "      <td>12000</td>\n",
       "      <td>279</td>\n",
       "      <td>155</td>\n",
       "      <td>14020</td>\n",
       "    </tr>\n",
       "    <tr>\n",
       "      <th>10691</th>\n",
       "      <td>São Paulo</td>\n",
       "      <td>80</td>\n",
       "      <td>2</td>\n",
       "      <td>1</td>\n",
       "      <td>0</td>\n",
       "      <td>0</td>\n",
       "      <td>acept</td>\n",
       "      <td>not furnished</td>\n",
       "      <td>0</td>\n",
       "      <td>1400</td>\n",
       "      <td>165</td>\n",
       "      <td>22</td>\n",
       "      <td>1587</td>\n",
       "    </tr>\n",
       "  </tbody>\n",
       "</table>\n",
       "</div>"
      ],
      "text/plain": [
       "                 city  area  rooms  bathroom  parking spaces  floor  \\\n",
       "10687    Porto Alegre    63      2         1               1      5   \n",
       "10688       São Paulo   285      4         4               4     17   \n",
       "10689  Rio de Janeiro    70      3         3               0      8   \n",
       "10690  Rio de Janeiro   120      2         2               2      8   \n",
       "10691       São Paulo    80      2         1               0      0   \n",
       "\n",
       "          animal      furniture  hoa (R$)  rent amount (R$)  \\\n",
       "10687  not acept      furnished       402              1478   \n",
       "10688      acept  not furnished      3100             15000   \n",
       "10689  not acept      furnished       980              6000   \n",
       "10690      acept      furnished      1585             12000   \n",
       "10691      acept  not furnished         0              1400   \n",
       "\n",
       "       property tax (R$)  fire insurance (R$)  total (R$)  \n",
       "10687                 24                   22        1926  \n",
       "10688                973                  191       19260  \n",
       "10689                332                   78        7390  \n",
       "10690                279                  155       14020  \n",
       "10691                165                   22        1587  "
      ]
     },
     "execution_count": 5,
     "metadata": {},
     "output_type": "execute_result"
    }
   ],
   "source": [
    "df.tail()"
   ]
  },
  {
   "cell_type": "markdown",
   "id": "342d6afb",
   "metadata": {},
   "source": [
    "# Number of rows and columns"
   ]
  },
  {
   "cell_type": "code",
   "execution_count": 6,
   "id": "84ff7a65",
   "metadata": {},
   "outputs": [
    {
     "name": "stdout",
     "output_type": "stream",
     "text": [
      "(10692, 13)\n"
     ]
    }
   ],
   "source": [
    "print(df.shape)\n"
   ]
  },
  {
   "cell_type": "markdown",
   "id": "c02a1482",
   "metadata": {},
   "source": [
    "# Display the names of all the columns"
   ]
  },
  {
   "cell_type": "code",
   "execution_count": 7,
   "id": "0cbf0fe1",
   "metadata": {},
   "outputs": [
    {
     "name": "stdout",
     "output_type": "stream",
     "text": [
      "Index(['city', 'area', 'rooms', 'bathroom', 'parking spaces', 'floor',\n",
      "       'animal', 'furniture', 'hoa (R$)', 'rent amount (R$)',\n",
      "       'property tax (R$)', 'fire insurance (R$)', 'total (R$)'],\n",
      "      dtype='object')\n"
     ]
    }
   ],
   "source": [
    "print(df.columns) "
   ]
  },
  {
   "cell_type": "markdown",
   "id": "0a8cd1fb",
   "metadata": {},
   "source": [
    "# Displaying the dataset information"
   ]
  },
  {
   "cell_type": "code",
   "execution_count": 8,
   "id": "bf4b09cc",
   "metadata": {},
   "outputs": [
    {
     "name": "stdout",
     "output_type": "stream",
     "text": [
      "<class 'pandas.core.frame.DataFrame'>\n",
      "RangeIndex: 10692 entries, 0 to 10691\n",
      "Data columns (total 13 columns):\n",
      " #   Column               Non-Null Count  Dtype \n",
      "---  ------               --------------  ----- \n",
      " 0   city                 10692 non-null  object\n",
      " 1   area                 10692 non-null  int64 \n",
      " 2   rooms                10692 non-null  int64 \n",
      " 3   bathroom             10692 non-null  int64 \n",
      " 4   parking spaces       10692 non-null  int64 \n",
      " 5   floor                10692 non-null  int64 \n",
      " 6   animal               10692 non-null  object\n",
      " 7   furniture            10692 non-null  object\n",
      " 8   hoa (R$)             10692 non-null  int64 \n",
      " 9   rent amount (R$)     10692 non-null  int64 \n",
      " 10  property tax (R$)    10692 non-null  int64 \n",
      " 11  fire insurance (R$)  10692 non-null  int64 \n",
      " 12  total (R$)           10692 non-null  int64 \n",
      "dtypes: int64(10), object(3)\n",
      "memory usage: 1.1+ MB\n"
     ]
    }
   ],
   "source": [
    "df.info()"
   ]
  },
  {
   "cell_type": "markdown",
   "id": "639b2266",
   "metadata": {},
   "source": [
    "# Checking if there are null values in any columns"
   ]
  },
  {
   "cell_type": "code",
   "execution_count": 9,
   "id": "bef9b814",
   "metadata": {},
   "outputs": [
    {
     "data": {
      "text/plain": [
       "city                   0\n",
       "area                   0\n",
       "rooms                  0\n",
       "bathroom               0\n",
       "parking spaces         0\n",
       "floor                  0\n",
       "animal                 0\n",
       "furniture              0\n",
       "hoa (R$)               0\n",
       "rent amount (R$)       0\n",
       "property tax (R$)      0\n",
       "fire insurance (R$)    0\n",
       "total (R$)             0\n",
       "dtype: int64"
      ]
     },
     "execution_count": 9,
     "metadata": {},
     "output_type": "execute_result"
    }
   ],
   "source": [
    "df.isnull().sum()"
   ]
  },
  {
   "cell_type": "markdown",
   "id": "9616e8a7",
   "metadata": {},
   "source": [
    "#LEVEL 1 Analysis \n",
    "Identify if the data type in each column is categorical or numerical?\n",
    "\n",
    "Separate out the categorical columns from the numerical types"
   ]
  },
  {
   "cell_type": "markdown",
   "id": "8ec9d492",
   "metadata": {},
   "source": [
    "# Function which seperates Numerical and Categorical column"
   ]
  },
  {
   "cell_type": "code",
   "execution_count": 10,
   "id": "2c7597b7",
   "metadata": {},
   "outputs": [],
   "source": [
    "\n",
    "def seprate_data_types(df):\n",
    "    categorical = []\n",
    "    numerical = []\n",
    "    for column in df.columns:                 \n",
    "        if df[column].nunique() <100:       \n",
    "                                                    \n",
    "            categorical.append(column)\n",
    "        else:\n",
    "            numerical .append(column)\n",
    "            \n",
    "    return categorical,numerical \n",
    "from tabulate import tabulate\n",
    "\n",
    "categorical, numerical = seprate_data_types(df)  "
   ]
  },
  {
   "cell_type": "code",
   "execution_count": 11,
   "id": "edc939b7",
   "metadata": {},
   "outputs": [
    {
     "name": "stdout",
     "output_type": "stream",
     "text": [
      "categorical     numerical\n",
      "--------------  -------------------\n",
      "city            area\n",
      "rooms           hoa (R$)\n",
      "bathroom        rent amount (R$)\n",
      "parking spaces  property tax (R$)\n",
      "floor           fire insurance (R$)\n",
      "animal          total (R$)\n",
      "furniture\n"
     ]
    }
   ],
   "source": [
    "print(tabulate({\"Categorical\":categorical,\n",
    "                \"numerical\": numerical}, headers = [\"categorical\", \"numerical\"]))"
   ]
  },
  {
   "cell_type": "code",
   "execution_count": 12,
   "id": "81f8e51c",
   "metadata": {},
   "outputs": [
    {
     "name": "stdout",
     "output_type": "stream",
     "text": [
      "['city', 'rooms', 'bathroom', 'parking spaces', 'floor', 'animal', 'furniture']\n",
      "\n",
      "<class 'list'>\n"
     ]
    }
   ],
   "source": [
    "print(categorical)\n",
    "print()\n",
    "print(type(categorical))"
   ]
  },
  {
   "cell_type": "code",
   "execution_count": 13,
   "id": "36b5187a",
   "metadata": {},
   "outputs": [
    {
     "name": "stdout",
     "output_type": "stream",
     "text": [
      "['area', 'hoa (R$)', 'rent amount (R$)', 'property tax (R$)', 'fire insurance (R$)', 'total (R$)']\n",
      "\n",
      "<class 'list'>\n"
     ]
    }
   ],
   "source": [
    "print(numerical)\n",
    "print()\n",
    "print(type(numerical))"
   ]
  },
  {
   "cell_type": "code",
   "execution_count": 14,
   "id": "def3f8ab",
   "metadata": {},
   "outputs": [],
   "source": [
    "df.drop(df[(df['city'] == 'São Paulo') | (df['city'] == 'Rio de Janeiro')].index, inplace=True)\n"
   ]
  },
  {
   "cell_type": "code",
   "execution_count": 21,
   "id": "693ac9fe",
   "metadata": {},
   "outputs": [
    {
     "data": {
      "text/plain": [
       "city\n",
       "Belo Horizonte    3664.127981\n",
       "Campinas          2364.290739\n",
       "Porto Alegre      2337.699916\n",
       "Name: rent amount (R$), dtype: float64"
      ]
     },
     "execution_count": 21,
     "metadata": {},
     "output_type": "execute_result"
    }
   ],
   "source": [
    "df1 = df.groupby(by='city')['rent amount (R$)'].mean()\n",
    "df1"
   ]
  },
  {
   "cell_type": "markdown",
   "id": "58369d17",
   "metadata": {},
   "source": [
    "# Level 1 Analysis (Univariate Analysis)\n",
    "User-defined function for level 1 analysis of categorical columns"
   ]
  },
  {
   "cell_type": "code",
   "execution_count": null,
   "id": "91e7a98f",
   "metadata": {},
   "outputs": [],
   "source": [
    "def info_of_cat(col): \n",
    "    print(f\"Unique values in {col} are: {df[col].unique()}\") \n",
    "    print(f\"Mode of {col} is {df[col].mode()[0]}\")  \n",
    "    print(f\"Number of missing values in {col} is {df[col].isnull().sum()}\") "
   ]
  },
  {
   "cell_type": "code",
   "execution_count": null,
   "id": "673e8913",
   "metadata": {},
   "outputs": [],
   "source": [
    "info_of_cat(\"city\")"
   ]
  },
  {
   "cell_type": "code",
   "execution_count": null,
   "id": "67fb7da8",
   "metadata": {},
   "outputs": [],
   "source": [
    "info_of_cat(\"rooms\")"
   ]
  },
  {
   "cell_type": "code",
   "execution_count": null,
   "id": "410af669",
   "metadata": {},
   "outputs": [],
   "source": [
    "info_of_cat(\"bathroom\")"
   ]
  },
  {
   "cell_type": "code",
   "execution_count": null,
   "id": "9deca144",
   "metadata": {},
   "outputs": [],
   "source": [
    "info_of_cat(\"parking spaces\")"
   ]
  },
  {
   "cell_type": "code",
   "execution_count": null,
   "id": "8394d43d",
   "metadata": {},
   "outputs": [],
   "source": [
    "info_of_cat(\"floor\")"
   ]
  },
  {
   "cell_type": "code",
   "execution_count": null,
   "id": "69856dd4",
   "metadata": {},
   "outputs": [],
   "source": [
    "info_of_cat(\"animal\")"
   ]
  },
  {
   "cell_type": "code",
   "execution_count": null,
   "id": "3f3e7f04",
   "metadata": {},
   "outputs": [],
   "source": [
    "info_of_cat(\"furniture\")"
   ]
  },
  {
   "cell_type": "markdown",
   "id": "9c3fad6f",
   "metadata": {},
   "source": [
    "# Visual presentation of City column"
   ]
  },
  {
   "cell_type": "code",
   "execution_count": null,
   "id": "9fe40b05",
   "metadata": {},
   "outputs": [],
   "source": [
    "fig, ax = plt.subplots(1, 2, figsize = (15, 7))\n",
    "ax[0].set_title(\"Count of city\")                  \n",
    "percentage = df[\"city\"].value_counts()         \n",
    "labels = list(df[\"city\"].value_counts().index) \n",
    "\n",
    "sns.countplot(x = df[\"city\"], ax = ax[0])\n",
    "plt.pie(percentage,labels = labels, autopct= \"%0.2f%%\") \n",
    "\n",
    "plt.show()"
   ]
  },
  {
   "cell_type": "markdown",
   "id": "8e5e01ed",
   "metadata": {},
   "source": [
    "# Interpretation:Most of the people belongs from Sao Paulo city which is near by about 55% of the total number of people."
   ]
  },
  {
   "cell_type": "markdown",
   "id": "3030eb93",
   "metadata": {},
   "source": [
    "# Visual presentation of rooms column¶"
   ]
  },
  {
   "cell_type": "code",
   "execution_count": null,
   "id": "2d385c3b",
   "metadata": {},
   "outputs": [],
   "source": [
    "fig, ax = plt.subplots(figsize= (10, 7))\n",
    "ax = sns.countplot(x = df[\"rooms\"])\n",
    "for bar in ax.patches:                                              \n",
    "    percentage = f\"{round(bar.get_height() /len(df), 2)}%\"          \n",
    "                                                                     \n",
    "    x = bar.get_x() + bar.get_width() /2                            \n",
    "    y = bar.get_height()                                            \n",
    "    ax.annotate(percentage, (x, y), va = \"bottom\", ha =\"center\" )    \n",
    "                                                                    \n",
    "plt.show()"
   ]
  },
  {
   "cell_type": "markdown",
   "id": "99693f95",
   "metadata": {},
   "source": [
    "# Interpretation:3 rooms are there available in maximum number of houses approx.31%."
   ]
  },
  {
   "cell_type": "markdown",
   "id": "64cecb3c",
   "metadata": {},
   "source": [
    "# Visual presentation of bathroom column¶"
   ]
  },
  {
   "cell_type": "code",
   "execution_count": null,
   "id": "be4355f3",
   "metadata": {},
   "outputs": [],
   "source": [
    "fig, ax = plt.subplots(figsize= (10, 7))\n",
    "ax = sns.countplot(x = df[\"bathroom\"])\n",
    "for bar in ax.patches:                                              \n",
    "    percentage = f\"{round(bar.get_height() /len(df), 2)}%\"          \n",
    "                                                                     \n",
    "    x = bar.get_x() + bar.get_width() /2                            \n",
    "    y = bar.get_height()                                            \n",
    "    ax.annotate(percentage, (x, y), va = \"bottom\", ha =\"center\" )    \n",
    "                                                                    \n",
    "plt.show()"
   ]
  },
  {
   "cell_type": "markdown",
   "id": "cc915dd5",
   "metadata": {},
   "source": [
    "# Interpretation:Only one bathroom is available in maximum number of houses."
   ]
  },
  {
   "cell_type": "markdown",
   "id": "f6e7af68",
   "metadata": {},
   "source": [
    "# Visual presentation of parking spaces column¶"
   ]
  },
  {
   "cell_type": "code",
   "execution_count": null,
   "id": "8078b902",
   "metadata": {},
   "outputs": [],
   "source": [
    "fig, ax = plt.subplots(figsize= (10, 7))\n",
    "ax = sns.countplot(x = df[\"parking spaces\"])\n",
    "for bar in ax.patches:                                              \n",
    "    percentage = f\"{round(bar.get_height() /len(df), 2)}%\"          \n",
    "                                                                     \n",
    "    x = bar.get_x() + bar.get_width() /2                            \n",
    "    y = bar.get_height()                                            \n",
    "    ax.annotate(percentage, (x, y), va = \"bottom\", ha =\"center\" )    \n",
    "                                                                    \n",
    "plt.show()"
   ]
  },
  {
   "cell_type": "markdown",
   "id": "085d4262",
   "metadata": {},
   "source": [
    "# Interpretation:Only one parking space is available in maximum number of houses."
   ]
  },
  {
   "cell_type": "markdown",
   "id": "11c2ea36",
   "metadata": {},
   "source": [
    "# Visual presentation of floor column¶"
   ]
  },
  {
   "cell_type": "code",
   "execution_count": null,
   "id": "48d79330",
   "metadata": {},
   "outputs": [],
   "source": [
    "import squarify"
   ]
  },
  {
   "cell_type": "code",
   "execution_count": null,
   "id": "83b4415e",
   "metadata": {},
   "outputs": [],
   "source": [
    "fig, ax = plt.subplots(1, 2, figsize = (15, 7))\n",
    "ax[0].set_title(\"Count of floor\")                  \n",
    "percentage = df[\"floor\"].value_counts()         \n",
    "labels = list(df[\"floor\"].value_counts().index) \n",
    "\n",
    "sns.countplot(x = df[\"floor\"], ax = ax[0])\n",
    "squarify.plot(sizes=percentage, label=labels, ax=ax[1],alpha=0.3) # to visualize through a tree map\n",
    "\n",
    "\n",
    "plt.show()"
   ]
  },
  {
   "cell_type": "markdown",
   "id": "3fc34747",
   "metadata": {},
   "source": [
    "# Interpretation:Almost 23% houses have zero floors and 10% houses have one floor and so on in decreasing order."
   ]
  },
  {
   "cell_type": "markdown",
   "id": "e3d0c6f3",
   "metadata": {},
   "source": [
    "# Visual presentation of animal column¶"
   ]
  },
  {
   "cell_type": "code",
   "execution_count": null,
   "id": "660a65c0",
   "metadata": {},
   "outputs": [],
   "source": [
    "fig, ax = plt.subplots(figsize= (10, 7))\n",
    "ax = sns.countplot(x = df[\"animal\"])\n",
    "for bar in ax.patches:                                              \n",
    "    percentage = f\"{round(bar.get_height() /len(df), 2)}%\"          \n",
    "                                                                     \n",
    "    x = bar.get_x() + bar.get_width() /2                            \n",
    "    y = bar.get_height()                                            \n",
    "    ax.annotate(percentage, (x, y), va = \"bottom\", ha =\"center\" )    \n",
    "                                                                    \n",
    "plt.show()"
   ]
  },
  {
   "cell_type": "markdown",
   "id": "7aba3a65",
   "metadata": {},
   "source": [
    "# Interpretation:It is clearly visible that there  are 78% of the houses where, pets(animals) are accepted.Rest 22% are not accepting pets or animals."
   ]
  },
  {
   "cell_type": "markdown",
   "id": "d96db7f2",
   "metadata": {},
   "source": [
    "# Visual presentation of furniture column¶"
   ]
  },
  {
   "cell_type": "code",
   "execution_count": null,
   "id": "9fbdea63",
   "metadata": {},
   "outputs": [],
   "source": [
    "fig, ax = plt.subplots(figsize= (10, 7))\n",
    "ax = sns.countplot(x = df[\"furniture\"])\n",
    "for bar in ax.patches:                                              \n",
    "    percentage = f\"{round(bar.get_height() /len(df), 2)}%\"          \n",
    "                                                                     \n",
    "    x = bar.get_x() + bar.get_width() /2                            \n",
    "    y = bar.get_height()                                            \n",
    "    ax.annotate(percentage, (x, y), va = \"bottom\", ha =\"center\" )    \n",
    "                                                                    \n",
    "plt.show()"
   ]
  },
  {
   "cell_type": "markdown",
   "id": "1f70a923",
   "metadata": {},
   "source": [
    "# Interpretation:It is clearly visible that only 24% of the houses are furnished only, rest 76% houses are not furnished."
   ]
  },
  {
   "cell_type": "markdown",
   "id": "b10ba4fa",
   "metadata": {},
   "source": [
    "# User defined function for calculating mean, median, mode, standard deviation, and count of all null values of Numerical column"
   ]
  },
  {
   "cell_type": "code",
   "execution_count": null,
   "id": "1f6c5ab3",
   "metadata": {},
   "outputs": [],
   "source": [
    "def info_of_numerical(col):\n",
    "    print(f\"The mean of the {col} is {df[col].mean()}\")\n",
    "    print(f\"The median of the {col} is {df[col].median()}\")\n",
    "    print(f\"The mode of the {col} is {df[col].mode()[0]}\")\n",
    "    print(f\"The standard deviation of the {col} is {df[col].std()}\")\n",
    "    print(f\"Number of missing values in the {col} is {df[col].isnull().sum()}\")"
   ]
  },
  {
   "cell_type": "markdown",
   "id": "bf2713b1",
   "metadata": {},
   "source": [
    "# Analysis of the Area of House"
   ]
  },
  {
   "cell_type": "code",
   "execution_count": null,
   "id": "2fe66773",
   "metadata": {},
   "outputs": [],
   "source": [
    "info_of_numerical(\"area\")"
   ]
  },
  {
   "cell_type": "code",
   "execution_count": null,
   "id": "a063541b",
   "metadata": {},
   "outputs": [],
   "source": [
    "info_of_numerical(\"hoa (R$)\")"
   ]
  },
  {
   "cell_type": "code",
   "execution_count": null,
   "id": "94186d0c",
   "metadata": {},
   "outputs": [],
   "source": [
    "info_of_numerical(\"rent amount (R$)\")"
   ]
  },
  {
   "cell_type": "code",
   "execution_count": null,
   "id": "e77a5a18",
   "metadata": {},
   "outputs": [],
   "source": [
    "info_of_numerical(\"property tax (R$)\")"
   ]
  },
  {
   "cell_type": "code",
   "execution_count": null,
   "id": "c2ab28e4",
   "metadata": {},
   "outputs": [],
   "source": [
    "info_of_numerical(\"fire insurance (R$)\")"
   ]
  },
  {
   "cell_type": "code",
   "execution_count": null,
   "id": "db6a97f6",
   "metadata": {},
   "outputs": [],
   "source": [
    "info_of_numerical(\"total (R$)\")"
   ]
  },
  {
   "cell_type": "markdown",
   "id": "785a6da2",
   "metadata": {},
   "source": [
    "# Visual presentation of area column"
   ]
  },
  {
   "cell_type": "code",
   "execution_count": null,
   "id": "5523ee82",
   "metadata": {},
   "outputs": [],
   "source": [
    "fig, ax = plt.subplots(1, 2, figsize = (15, 5))\n",
    "\n",
    "ax[0].set_title(\"Box plot\")\n",
    "ax[1].set_title(\"Histogram\")\n",
    "\n",
    "sns.histplot(x = df['area'], ax = ax[1], color ='lightgreen')  \n",
    "sns.boxplot(x = df['area'], ax = ax[0], color ='b')   \n",
    "plt.show()\n"
   ]
  },
  {
   "cell_type": "code",
   "execution_count": null,
   "id": "3df9079b",
   "metadata": {},
   "outputs": [],
   "source": [
    "def outliers(column):\n",
    "    print(\"The mean  is\", df[column].mean())\n",
    "    Q1=df[column].quantile(0.25)\n",
    "    Q3=df[column].quantile(0.75)\n",
    "    print('value of Q1 and Q3',Q1,',',Q3)\n",
    "    IQR=Q3-Q1\n",
    "    print('value of IQR',IQR)\n",
    "    UF = Q3 + (1.5 * IQR) \n",
    "    LF = Q1 - (1.5 * IQR)\n",
    "    print('value of UF and LF',UF,',',LF)\n",
    "    outlier=[]\n",
    "    for i in df[column]: \n",
    "            if (i<LF or i>UF):\n",
    "                outlier.append(i)\n",
    "\n",
    "    print(\"Outliers from IQR method: \", outlier)\n",
    "    \n",
    "    a = df[column].mean()\n",
    "    for i in outlier:\n",
    "        df[column]=df[column].replace(to_replace=i,value=a)"
   ]
  },
  {
   "cell_type": "code",
   "execution_count": null,
   "id": "a2873244",
   "metadata": {},
   "outputs": [],
   "source": [
    "outliers('area')"
   ]
  },
  {
   "cell_type": "code",
   "execution_count": null,
   "id": "826396ac",
   "metadata": {},
   "outputs": [],
   "source": [
    "fig, ax = plt.subplots(1, 2, figsize = (15, 5))\n",
    "\n",
    "ax[0].set_title(\"Box plot\")\n",
    "ax[1].set_title(\"Histogram\")\n",
    "\n",
    "sns.histplot(x = df['area'], ax = ax[1], color ='lightgreen')  \n",
    "sns.boxplot(x = df['area'], ax = ax[0], color ='b')   \n",
    "plt.show()\n"
   ]
  },
  {
   "cell_type": "markdown",
   "id": "ee6b7547",
   "metadata": {},
   "source": [
    "# Visual presentation of rent amount column"
   ]
  },
  {
   "cell_type": "code",
   "execution_count": null,
   "id": "e47956a7",
   "metadata": {},
   "outputs": [],
   "source": [
    "fig, ax = plt.subplots(1, 2, figsize = (15, 5))\n",
    "\n",
    "ax[0].set_title(\"Box plot\")\n",
    "ax[1].set_title(\"Histogram\")\n",
    "\n",
    "sns.histplot(x = df['rent amount (R$)'], ax = ax[1], color ='lightgreen')  \n",
    "sns.boxplot(x = df['rent amount (R$)'], ax = ax[0], color ='b')   \n",
    "plt.show()"
   ]
  },
  {
   "cell_type": "markdown",
   "id": "18b0d82e",
   "metadata": {},
   "source": [
    "# Visual presentation of fire insurance column"
   ]
  },
  {
   "cell_type": "code",
   "execution_count": null,
   "id": "2e824d0c",
   "metadata": {},
   "outputs": [],
   "source": [
    "fig, ax = plt.subplots(1, 2, figsize = (15, 5))\n",
    "\n",
    "ax[0].set_title(\"Box plot\")\n",
    "ax[1].set_title(\"Histogram\")\n",
    "\n",
    "sns.histplot(x = df['fire insurance (R$)'], ax = ax[1], color ='lightgreen')  \n",
    "sns.boxplot(x = df['fire insurance (R$)'], ax = ax[0], color ='b')   \n",
    "plt.show()\n"
   ]
  },
  {
   "cell_type": "code",
   "execution_count": null,
   "id": "912d16f1",
   "metadata": {},
   "outputs": [],
   "source": [
    "df.nunique()"
   ]
  },
  {
   "cell_type": "markdown",
   "id": "56e39d2e",
   "metadata": {},
   "source": [
    "# Visual presentation of total(rs) column"
   ]
  },
  {
   "cell_type": "code",
   "execution_count": null,
   "id": "7af27cb7",
   "metadata": {},
   "outputs": [],
   "source": [
    "fig, ax = plt.subplots(1, 2, figsize = (15, 5))\n",
    "\n",
    "ax[0].set_title(\"Box plot\")\n",
    "ax[1].set_title(\"Histogram\")\n",
    "\n",
    "sns.histplot(x = df['total (R$)'], ax = ax[1], color ='lightgreen')  \n",
    "sns.boxplot(x = df['total (R$)'], ax = ax[0], color ='b')   \n",
    "plt.show()\n"
   ]
  },
  {
   "cell_type": "code",
   "execution_count": null,
   "id": "c9b1faee",
   "metadata": {},
   "outputs": [],
   "source": [
    "outliers('total (R$)')"
   ]
  },
  {
   "cell_type": "code",
   "execution_count": null,
   "id": "a7cbe1ca",
   "metadata": {},
   "outputs": [],
   "source": [
    "fig, ax = plt.subplots(1, 2, figsize = (15, 5))\n",
    "\n",
    "ax[0].set_title(\"Box plot\")\n",
    "ax[1].set_title(\"Histogram\")\n",
    "\n",
    "sns.histplot(x = df['total (R$)'], ax = ax[1], color ='lightgreen')  \n",
    "sns.boxplot(x = df['total (R$)'], ax = ax[0], color ='b')   \n",
    "plt.show()"
   ]
  },
  {
   "cell_type": "markdown",
   "id": "db22de42",
   "metadata": {},
   "source": [
    "# TASK-1  ANALYSIS OF ROOMS TO RELOCATE FOR BACHELORS|"
   ]
  },
  {
   "cell_type": "markdown",
   "id": "90f9ef19",
   "metadata": {},
   "source": [
    "# LEVEL-1 UNIVARIATE ANALYSIS"
   ]
  },
  {
   "cell_type": "code",
   "execution_count": null,
   "id": "bb65fc6c",
   "metadata": {},
   "outputs": [],
   "source": [
    "#filtering the data for Bachelors to relocate\n",
    "B_df = df[df['rooms']<=2]"
   ]
  },
  {
   "cell_type": "code",
   "execution_count": null,
   "id": "f12fbf69",
   "metadata": {},
   "outputs": [],
   "source": [
    "B_df"
   ]
  },
  {
   "cell_type": "code",
   "execution_count": null,
   "id": "1b587cad",
   "metadata": {},
   "outputs": [],
   "source": [
    "def bar_percentage(ax, count: \"number of rows in data \"):\n",
    "    for bar in ax.patches:                                            \n",
    "        percentage = f\"{round((bar.get_height() / count) *100, 2)}%\"  \n",
    "                                                                            \n",
    "        x = bar.get_x() + bar.get_width() /2                          \n",
    "        y = bar.get_height()                                         \n",
    "        ax.annotate(percentage, (x, y), va = \"bottom\", ha = \"center\") \n",
    "                                                                      \n",
    "                                                                      \n",
    "    plt.show()\n",
    "fig, ax = plt.subplots(figsize = (10, 7))\n",
    "sns.countplot(x = \"city\", data = B_df)\n",
    "plt.title('Bachelor wise room')\n",
    "bar_percentage(ax, len(B_df)) "
   ]
  },
  {
   "cell_type": "markdown",
   "id": "19fd2582",
   "metadata": {},
   "source": [
    "Interpretation:As the above Countplot indicates that Port Alegre has the highest availability of rooms  that is approx 47% for Bachelors,those who wants single or double rooms."
   ]
  },
  {
   "cell_type": "markdown",
   "id": "5c83ddfc",
   "metadata": {},
   "source": [
    "# LEVEL-2  BIVARIATE ANALYSIS"
   ]
  },
  {
   "cell_type": "markdown",
   "id": "8d2fb026",
   "metadata": {},
   "source": [
    "# RELATIONSHIP OF CITY WITH AREA"
   ]
  },
  {
   "cell_type": "code",
   "execution_count": null,
   "id": "7a0b8d14",
   "metadata": {},
   "outputs": [],
   "source": [
    "fig, ax = plt.subplots(figsize = (40, 7))\n",
    "sns.countplot(x = \"area\", hue = \"city\", data = B_df)\n",
    "plt.show()"
   ]
  },
  {
   "cell_type": "markdown",
   "id": "4a532d95",
   "metadata": {},
   "source": [
    "Interpretation:As the above Countplot indicates that Port Alegre has the widest range of rooms available in the area than other two cities.Now for further analysis we will proceed to Multivaraiate analysis. "
   ]
  },
  {
   "cell_type": "markdown",
   "id": "ce373855",
   "metadata": {},
   "source": [
    "# LEVEL-3 MULTIVARIATE ANALYSIS"
   ]
  },
  {
   "cell_type": "markdown",
   "id": "2951ae38",
   "metadata": {},
   "source": [
    "# Further Analysis\n",
    "Which area is the best for Bachelors among the three cities?\n",
    "which area has the most Spreaded?"
   ]
  },
  {
   "cell_type": "markdown",
   "id": "12f53db6",
   "metadata": {},
   "source": [
    "# Deeper Analysis\n",
    "Which city has the offer for Bachelors at most affordable price,so that they can relocate themselves."
   ]
  },
  {
   "cell_type": "code",
   "execution_count": null,
   "id": "0fba9052",
   "metadata": {},
   "outputs": [],
   "source": [
    "B_df1 = B_df[(B_df[\"area\"] >= 30) & (B_df[\"area\"] <= 100) & (B_df['bathroom']==1) &(B_df['furniture']=='not furnished') ]\n",
    "B_df1\n",
    "B_df1['total (R$)'].mean()"
   ]
  },
  {
   "cell_type": "code",
   "execution_count": null,
   "id": "cec91d48",
   "metadata": {},
   "outputs": [],
   "source": [
    "B_df1 = B_df1[B_df1['total (R$)'] <=1686.98]\n",
    "B_df1"
   ]
  },
  {
   "cell_type": "code",
   "execution_count": null,
   "id": "93e6b289",
   "metadata": {},
   "outputs": [],
   "source": [
    "fig, ax = plt.subplots(figsize = (10, 6))\n",
    "sns.boxplot(x = \"area\", y = \"city\", data = B_df1)\n",
    "plt.show()"
   ]
  },
  {
   "cell_type": "code",
   "execution_count": null,
   "id": "ba97089d",
   "metadata": {},
   "outputs": [],
   "source": [
    "fig, ax = plt.subplots(figsize = (30, 7))\n",
    "sns.countplot(x = \"area\", hue= \"city\", data = B_df1)\n",
    "plt.show()"
   ]
  },
  {
   "cell_type": "markdown",
   "id": "3d93257b",
   "metadata": {},
   "source": [
    "### Interpretation:In  above countplot Belo Horizonte and Port Alegre are highly recommended here for  the houses of area between 30 to 100,with less than equal to 2 rooms at lowest price.So we can conclude that Belo Horizonte is the best suited city for Bachelors to relocate."
   ]
  },
  {
   "cell_type": "markdown",
   "id": "1f360ca6",
   "metadata": {},
   "source": [
    "# TASK-2  ANALYSIS OF ROOMS TO RELOCATE FOR MID SIZE FAMILY"
   ]
  },
  {
   "cell_type": "markdown",
   "id": "696a0d70",
   "metadata": {},
   "source": [
    "# LEVEL-1 UNIVARIATE ANALYSIS"
   ]
  },
  {
   "cell_type": "markdown",
   "id": "09cef709",
   "metadata": {},
   "source": [
    "1.Filtering the data as per the needs of Mid size family.\n",
    "2.Visualization the distribution to understand with suitable graph."
   ]
  },
  {
   "cell_type": "code",
   "execution_count": null,
   "id": "81e29c6a",
   "metadata": {},
   "outputs": [],
   "source": [
    "df['city'].nunique()"
   ]
  },
  {
   "cell_type": "code",
   "execution_count": null,
   "id": "d431652c",
   "metadata": {},
   "outputs": [],
   "source": [
    "df['city'].unique()"
   ]
  },
  {
   "cell_type": "code",
   "execution_count": null,
   "id": "58940766",
   "metadata": {},
   "outputs": [],
   "source": [
    "#filtering the data according to needs of mid size family  to relocate\n",
    "M_df = df[(df['rooms']>2) & (df['rooms']<=4)]\n",
    "M_df"
   ]
  },
  {
   "cell_type": "code",
   "execution_count": null,
   "id": "53f9c740",
   "metadata": {},
   "outputs": [],
   "source": [
    "def bar_percentage(ax, count: \"number of rows in data \"):\n",
    "    for bar in ax.patches:                                            \n",
    "        percentage = f\"{round((bar.get_height() / count) *100, 2)}%\"  \n",
    "                                                                            \n",
    "        x = bar.get_x() + bar.get_width() /2                          \n",
    "        y = bar.get_height()                                         \n",
    "        ax.annotate(percentage, (x, y), va = \"bottom\", ha = \"center\") \n",
    "                                                                      \n",
    "                                                                      \n",
    "    plt.show()\n",
    "fig, ax = plt.subplots(figsize = (10, 7))\n",
    "sns.countplot(x = \"city\", data = M_df)\n",
    "plt.title('Mid size family wise room')\n",
    "bar_percentage(ax, len(M_df)) "
   ]
  },
  {
   "cell_type": "markdown",
   "id": "1e6022b8",
   "metadata": {},
   "source": [
    "Interpretation:As the above Countplot indicates that Belo Horizonte has the highest availability of rooms  that is approx 50% for mid size family,those who wants atleast 2 rooms and atmost 4 rooms."
   ]
  },
  {
   "cell_type": "markdown",
   "id": "cae10e9d",
   "metadata": {},
   "source": [
    "# LEVEL-2  BIVARIATE ANALYSIS"
   ]
  },
  {
   "cell_type": "markdown",
   "id": "c0567605",
   "metadata": {},
   "source": [
    "# RELATIONSHIP OF CITY WITH AREA"
   ]
  },
  {
   "cell_type": "code",
   "execution_count": null,
   "id": "69e9e2a9",
   "metadata": {},
   "outputs": [],
   "source": [
    "fig, ax = plt.subplots(figsize = (40, 8))\n",
    "sns.countplot(x = \"area\", hue = \"city\", data = M_df)\n",
    "plt.show()"
   ]
  },
  {
   "cell_type": "markdown",
   "id": "19c7f02b",
   "metadata": {},
   "source": [
    "Interpretation:As the above Countplot indicates that Belo Horizonte has the widest range of rooms available in the area than other two cities.Now for further analysis we will proceed to Multivaraiate analysis. "
   ]
  },
  {
   "cell_type": "markdown",
   "id": "3c4dc263",
   "metadata": {},
   "source": [
    "# LEVEL-3 MULTIVARIATE ANALYSIS"
   ]
  },
  {
   "cell_type": "markdown",
   "id": "ded0f1b3",
   "metadata": {},
   "source": [
    "Further Analysis\n",
    "Which area is the best for Mid size family among the three cities?\n",
    "which area has the most Spreaded?\n",
    "Which city has the houses at affordable price?"
   ]
  },
  {
   "cell_type": "markdown",
   "id": "10c6c16c",
   "metadata": {},
   "source": [
    "# Deeper Analysis\n",
    "Which city has the offer for Mid size family at most affordable price,so that they can relocate themselves which is fulfilling all their basic needs"
   ]
  },
  {
   "cell_type": "code",
   "execution_count": null,
   "id": "bba7b51d",
   "metadata": {},
   "outputs": [],
   "source": [
    "# filter the total cost,area,furniture and parking space for mid size family\n",
    "M_df = M_df[(M_df[\"area\"] >=80) & (M_df[\"area\"] <=200) & (M_df['bathroom']>=1) & (M_df['furniture']=='not furnished') & (M_df['floor']== 1)]\n",
    "M_df\n",
    "M_df['total (R$)'].mean()"
   ]
  },
  {
   "cell_type": "code",
   "execution_count": null,
   "id": "b89cd1e8",
   "metadata": {},
   "outputs": [],
   "source": [
    "M_df1 = M_df[M_df['total (R$)'] <=2998.71]\n",
    "M_df1"
   ]
  },
  {
   "cell_type": "code",
   "execution_count": null,
   "id": "005b14c3",
   "metadata": {},
   "outputs": [],
   "source": [
    "fig, ax = plt.subplots(figsize = (10, 6))\n",
    "sns.boxplot(x = \"area\", y = \"city\", data = M_df1)\n",
    "plt.show()"
   ]
  },
  {
   "cell_type": "code",
   "execution_count": null,
   "id": "ed785435",
   "metadata": {},
   "outputs": [],
   "source": [
    "fig, ax = plt.subplots(figsize = (40, 7))\n",
    "sns.countplot(x = \"area\", hue= \"city\", data = M_df1)\n",
    "plt.show()"
   ]
  },
  {
   "cell_type": "markdown",
   "id": "10057914",
   "metadata": {},
   "source": [
    "# Interpretation:Belo Horizonte is showing here the houses of area between 80 to 200,with atleast 2 rooms  and atmost 4 rooms at lowest price.So we can conclude that Belo Horizonte is the best suited city for Mid Size Family to relocate."
   ]
  },
  {
   "cell_type": "markdown",
   "id": "b1d2ac7c",
   "metadata": {},
   "source": [
    "# TASK-2  ANALYSIS OF ROOMS TO RELOCATE FOR LARGE SIZE FAMILY"
   ]
  },
  {
   "cell_type": "markdown",
   "id": "51f0857d",
   "metadata": {},
   "source": [
    "# LEVEL-1 UNIVARIATE ANALYSIS"
   ]
  },
  {
   "cell_type": "markdown",
   "id": "a208a411",
   "metadata": {},
   "source": [
    "1.Filtering the data as per the needs of Large size family.\n",
    "2.Visualization the distribution to understand with suitable graphs/charts."
   ]
  },
  {
   "cell_type": "code",
   "execution_count": null,
   "id": "ea6e650a",
   "metadata": {},
   "outputs": [],
   "source": [
    "#filtering the data according to needs of large size family  to relocate\n",
    "L_df = df[(df['rooms']>=3) & (df['rooms']<=5)]\n",
    "L_df"
   ]
  },
  {
   "cell_type": "code",
   "execution_count": null,
   "id": "eb457f93",
   "metadata": {},
   "outputs": [],
   "source": [
    "def bar_percentage(ax, count: \"number of rows in data \"):\n",
    "    for bar in ax.patches:                                            \n",
    "        percentage = f\"{round((bar.get_height() / count) *100, 2)}%\"  \n",
    "                                                                            \n",
    "        x = bar.get_x() + bar.get_width() /2                          \n",
    "        y = bar.get_height()                                         \n",
    "        ax.annotate(percentage, (x, y), va = \"bottom\", ha = \"center\") \n",
    "                                                                      \n",
    "                                                                      \n",
    "    plt.show()\n",
    "fig, ax = plt.subplots(figsize = (10, 7))\n",
    "sns.countplot(x = \"city\", data = L_df)\n",
    "plt.title('Large size family wise room')\n",
    "bar_percentage(ax, len(L_df)) "
   ]
  },
  {
   "cell_type": "markdown",
   "id": "81fafde3",
   "metadata": {},
   "source": [
    "Interpretation:As the above Countplot indicates that Belo Horizonte has the highest availability of rooms that is approx 51% for mid size family,those who wants atleast 2 rooms and atmost 4 rooms."
   ]
  },
  {
   "cell_type": "markdown",
   "id": "c65185e7",
   "metadata": {},
   "source": [
    "# LEVEL-2  BIVARIATE ANALYSIS"
   ]
  },
  {
   "cell_type": "markdown",
   "id": "e91ec49c",
   "metadata": {},
   "source": [
    "# RELATIONSHIP OF CITY WITH AREA"
   ]
  },
  {
   "cell_type": "code",
   "execution_count": null,
   "id": "460d2bc0",
   "metadata": {},
   "outputs": [],
   "source": [
    "fig, ax = plt.subplots(figsize = (20, 8))\n",
    "sns.countplot(x = \"area\", hue = \"city\", data = L_df)\n",
    "plt.show()"
   ]
  },
  {
   "cell_type": "markdown",
   "id": "37dc5f21",
   "metadata": {},
   "source": [
    "Interpretation:As the above Countplot indicates that Belo Horizonte has the widest range of rooms available in the area than other two cities.Now for further analysis we will proceed to Multivaraiate analysis."
   ]
  },
  {
   "cell_type": "markdown",
   "id": "7983e8ca",
   "metadata": {},
   "source": [
    "# LEVEL-3 MULTIVARIATE ANALYSIS"
   ]
  },
  {
   "cell_type": "markdown",
   "id": "49dadd33",
   "metadata": {},
   "source": [
    "Further Analysis\n",
    "Which area is the most suitable for large size family among the three cities?\n",
    "which area has the most Spreaded?\n",
    "Which city has the houses at \n",
    "affordable price according to the needs for large size family?"
   ]
  },
  {
   "cell_type": "markdown",
   "id": "d3da0b3a",
   "metadata": {},
   "source": [
    "# Deeper Analysis\n",
    "Which city has the best offer for Large size family at most affordable price,so that they can relocate themselves which is fulfilling all their basic needs."
   ]
  },
  {
   "cell_type": "code",
   "execution_count": null,
   "id": "ac84579d",
   "metadata": {},
   "outputs": [],
   "source": [
    "# filter the total cost,area,furniture and parking space for mid size family\n",
    "L_df = L_df[(L_df[\"area\"] >=210) & (L_df[\"area\"] <=350) & (L_df['bathroom']>=2) & (L_df['furniture']=='not furnished')  & (L_df['animal']=='acept')  & (L_df['parking spaces']>= 1)]\n",
    "L_df\n",
    "L_df['total (R$)'].mean()"
   ]
  },
  {
   "cell_type": "code",
   "execution_count": null,
   "id": "5d8329fb",
   "metadata": {},
   "outputs": [],
   "source": [
    "L_df1 = L_df[L_df['total (R$)'] <=4740.71]\n",
    "L_df1"
   ]
  },
  {
   "cell_type": "code",
   "execution_count": null,
   "id": "5de57db7",
   "metadata": {},
   "outputs": [],
   "source": [
    "fig, ax = plt.subplots(figsize = (10, 6))\n",
    "sns.boxplot(x = \"area\", y = \"city\", data = L_df1)\n",
    "plt.show()"
   ]
  },
  {
   "cell_type": "code",
   "execution_count": null,
   "id": "fcabe956",
   "metadata": {},
   "outputs": [],
   "source": [
    "fig, ax = plt.subplots(figsize = (40, 7))\n",
    "sns.countplot(x = \"area\", hue= \"city\", data = L_df1)\n",
    "plt.show()"
   ]
  },
  {
   "cell_type": "markdown",
   "id": "5a0827ae",
   "metadata": {},
   "source": [
    "# Interpretation:Belo Horizonte is highly recommended  for the houses in which area between 210 to 350,with atleast 3 rooms  and atmost 5 rooms at lowest price.So we can conclude that Belo Horizonte is the best suited city for Large Size Family to relocate."
   ]
  },
  {
   "cell_type": "code",
   "execution_count": null,
   "id": "b26a880b",
   "metadata": {},
   "outputs": [],
   "source": []
  }
 ],
 "metadata": {
  "kernelspec": {
   "display_name": "Python 3 (ipykernel)",
   "language": "python",
   "name": "python3"
  },
  "language_info": {
   "codemirror_mode": {
    "name": "ipython",
    "version": 3
   },
   "file_extension": ".py",
   "mimetype": "text/x-python",
   "name": "python",
   "nbconvert_exporter": "python",
   "pygments_lexer": "ipython3",
   "version": "3.11.5"
  }
 },
 "nbformat": 4,
 "nbformat_minor": 5
}
